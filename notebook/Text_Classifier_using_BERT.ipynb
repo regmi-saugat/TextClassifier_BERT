{
 "cells": [
  {
   "cell_type": "code",
   "execution_count": null,
   "metadata": {
    "id": "ifL3norcKEvO"
   },
   "outputs": [],
   "source": [
    "# !pip --q install transformers\n",
    "# !pip --q install datasets\n",
    "# !pip --q install accelerate evaluate"
   ]
  },
  {
   "cell_type": "markdown",
   "metadata": {
    "id": "Wj3dBjKZK0Yb"
   },
   "source": [
    "## Configuration Setup"
   ]
  },
  {
   "cell_type": "code",
   "execution_count": null,
   "metadata": {
    "id": "oZ3yYw3AKpC0"
   },
   "outputs": [],
   "source": [
    "import torch\n",
    "class Config:\n",
    "    DATASET_ID = \"emad12/stock_tweets_sentiment\"\n",
    "    MODEL_CHECKPOINT = \"distilbert-base-uncased\"\n",
    "    SOURCE_COLUMN = \"tweet\"\n",
    "    TARGET_COLUMN = \"sentiment\"\n",
    "    TEST_SIZE = 0.2\n",
    "    SEED = 0\n",
    "    MAX_LENGTH = 32\n",
    "    DEVICE = \"cuda\" if torch.cuda.is_available() else \"cpu\"\n",
    "    ID2LABEL = {0: \"NEUTRAL\", 1: \"POSITIVE\", 2: \"NEGATIVE\"}\n",
    "    LABEL2ID = {\"NEUTRAL\" : 0, \"POSITIVE\" : 1, \"NEGATIVE\": 2}\n",
    "    EVALUATION_METRIC = \"accuracy\"\n",
    "    MODEL_OUTPUT_DIR = \"distilbert-stock-tweet-sentiment-analysis\"\n",
    "    NUMBER_EPOCHS = 3\n",
    "    LR = 2E-5\n",
    "    BATCH_SIZE = 16\n",
    "    WEIGHT_DECAY = 0.01\n",
    "    EVALUATION_STRATEGY = \"epoch\"\n",
    "    SAVE_STRATEGY = \"epoch\"\n",
    "    LOGGING_STRATEGY = \"epoch\"\n",
    "    PUSH_TO_HUB = True\n",
    "\n",
    "config = Config()"
   ]
  },
  {
   "cell_type": "markdown",
   "metadata": {
    "id": "SAB_vg3PLBz3"
   },
   "source": [
    "## Dataset Prepration"
   ]
  },
  {
   "cell_type": "code",
   "execution_count": null,
   "metadata": {
    "id": "QNrY6kddMene"
   },
   "outputs": [],
   "source": [
    "#@ IMPORTING THE REQUIRED LIBRARIES AND DEPENDENCIES\n",
    "from transformers import AutoTokenizer, AutoModel, AutoModelForSequenceClassification, Trainer, TrainingArguments, DataCollatorWithPadding\n",
    "from datasets import Dataset, load_dataset\n",
    "from sklearn.model_selection import train_test_split\n",
    "import pandas as pd\n",
    "import numpy as np\n",
    "import torch\n",
    "import evaluate"
   ]
  },
  {
   "cell_type": "code",
   "execution_count": null,
   "metadata": {
    "id": "-szcfSC_LAmD"
   },
   "outputs": [],
   "source": [
    "class TextClassificationDataset:\n",
    "\n",
    "    def __init__(self):\n",
    "        self.dataset_id = config.DATASET_ID\n",
    "        self.model_checkpoint = config.MODEL_CHECKPOINT\n",
    "        self.source_column = config.SOURCE_COLUMN\n",
    "        self.target_column = config.TARGET_COLUMN\n",
    "        self.test_size = config.TEST_SIZE\n",
    "        self.seed = config.SEED\n",
    "        self.max_len = config.MAX_LENGTH\n",
    "        self.tokenizer = AutoTokenizer.from_pretrained(self.model_checkpoint)\n",
    "\n",
    "    def create_data(self):\n",
    "        self.dataset = load_dataset(self.dataset_id, split=\"train\")\n",
    "        self.data = self.dataset.to_pandas()\n",
    "        self.data = self.data[[self.source_column, self.target_column]]\n",
    "        self.data[self.target_column] = self.data[self.target_column].apply(lambda x: 2 if x == -1 else x)\n",
    "        self.data[self.source_column] =  self.data[self.source_column].apply(lambda x: x.lower())                       # lowercasing the dataset\n",
    "        self.data = self.data.sample(20000)\n",
    "        self.train_data, self.test_data = train_test_split(self.data, test_size=self.test_size, shuffle=True, random_state=self.seed, stratify=self.data[self.target_column])\n",
    "        self.train_df = Dataset.from_pandas(self.train_data)\n",
    "        self.test_df = Dataset.from_pandas(self.test_data)\n",
    "        return self.train_df, self.test_df\n",
    "\n",
    "\n",
    "    def tokenize_function(self, example):\n",
    "        model_input = self.tokenizer(example[self.source_column], truncation=True, padding=True, max_length=self.max_len)\n",
    "        labels = torch.tensor(example[self.target_column], dtype=torch.int)\n",
    "        model_input[\"labels\"] = labels\n",
    "        return model_input\n",
    "\n",
    "    def preprocess_function(self, data):\n",
    "        model_input = data.map(self.tokenize_function, batched=True, remove_columns=data.column_names)\n",
    "        return model_input\n",
    "\n",
    "    def gen_classification_dataset(self):\n",
    "        train_df, test_df = self.create_data()\n",
    "        train_tokenized_data = self.preprocess_function(train_df)\n",
    "        test_tokenized_data = self.preprocess_function(test_df)\n",
    "        return train_tokenized_data, test_tokenized_data\n"
   ]
  },
  {
   "cell_type": "markdown",
   "metadata": {
    "id": "lvngrc97LTqn"
   },
   "source": [
    "## Model Prepration for Training"
   ]
  },
  {
   "cell_type": "code",
   "execution_count": null,
   "metadata": {
    "id": "sYwmkqYtLTGq"
   },
   "outputs": [],
   "source": [
    "class TextClassificationModelTrainer:\n",
    "    def __init__(self, train_df, test_df):\n",
    "        self.train_df = train_df\n",
    "        self.test_df = test_df\n",
    "        self.model_checkpoint = config.MODEL_CHECKPOINT\n",
    "        self.id2label = config.ID2LABEL\n",
    "        self.label2id = config.LABEL2ID\n",
    "        self.number_labels = len(self.id2label)\n",
    "        self.device = config.DEVICE\n",
    "        self.evaluation_metric = config.EVALUATION_METRIC\n",
    "        self.model_output_dir = config.MODEL_OUTPUT_DIR\n",
    "        self.number_epochs = config.NUMBER_EPOCHS\n",
    "        self.lr = config.LR\n",
    "        self.batch_size = config.BATCH_SIZE\n",
    "        self.weight_decay = config.WEIGHT_DECAY\n",
    "        self.evaluation_strategy = config.EVALUATION_STRATEGY\n",
    "        self.save_strategy = config.SAVE_STRATEGY\n",
    "        self.logging_strategy = config.LOGGING_STRATEGY\n",
    "        self.push_to_hub = config.PUSH_TO_HUB\n",
    "        self.model = AutoModelForSequenceClassification.from_pretrained(self.model_checkpoint,\n",
    "                                                                        id2label = self.id2label,\n",
    "                                                                        label2id = self.label2id,\n",
    "                                                                        num_labels = self.number_labels\n",
    "                                                                        ).to(self.device)\n",
    "        self.tokenizer = AutoTokenizer.from_pretrained(self.model_checkpoint)\n",
    "        self.evaluation_metric_computer = evaluate.load(self.evaluation_metric)\n",
    "        self.data_collator = DataCollatorWithPadding(self.tokenizer)\n",
    "\n",
    "    def compute_metrics(self, evaluation_prediction):\n",
    "        predictions, labels = evaluation_prediction\n",
    "        predictions = np.argmax(predictions, axis=1)\n",
    "        return self.evaluation_metric_computer.compute(predictions=predictions, references=labels)\n",
    "\n",
    "    def set_training_arguments(self):\n",
    "        return TrainingArguments(\n",
    "            output_dir = self.model_output_dir,\n",
    "            num_train_epochs = self.number_epochs,\n",
    "            learning_rate = self.lr,\n",
    "            per_device_train_batch_size = self.batch_size,\n",
    "            per_device_eval_batch_size = self.batch_size,\n",
    "            weight_decay = self.weight_decay,\n",
    "            evaluation_strategy = self.evaluation_strategy,\n",
    "            save_strategy = self.save_strategy,\n",
    "            logging_strategy = self.logging_strategy,\n",
    "            push_to_hub = self.push_to_hub\n",
    "        )\n",
    "\n",
    "    def model_trainer(self):\n",
    "        return Trainer(\n",
    "            model = self.model,\n",
    "            args = self.set_training_arguments(),\n",
    "            data_collator = self.data_collator,\n",
    "            train_dataset = self.train_df,\n",
    "            eval_dataset = self.test_df,\n",
    "            compute_metrics = self.compute_metrics\n",
    "        )\n",
    "\n",
    "    def train_and_save_and_push_to_hub(self):\n",
    "        trainer = self.model_trainer()\n",
    "        trainer.train()\n",
    "        trainer.push_to_hub"
   ]
  },
  {
   "cell_type": "code",
   "execution_count": null,
   "metadata": {
    "id": "HynazBmi-dgb"
   },
   "outputs": [],
   "source": [
    "# from huggingface_hub import notebook_login\n",
    "# notebook_login()"
   ]
  },
  {
   "cell_type": "markdown",
   "metadata": {
    "id": "cWexlaE6Lg7r"
   },
   "source": [
    "## Main"
   ]
  },
  {
   "cell_type": "code",
   "execution_count": null,
   "metadata": {
    "colab": {
     "base_uri": "https://localhost:8080/",
     "height": 375,
     "referenced_widgets": [
      "b1a41a4423484316909e5c7f38795490",
      "2837d3d0212140f9b440355a9d3bfa35",
      "4b7e6006028944238b2d2db393c7d7ed",
      "7e29e9b83ca442b483adf0641d933af1",
      "1debdc7807924adfbf74fbd502fc99ff",
      "daaf5f89eed64d04a3b363e4fb53677a",
      "d1369302f1a744f4804f86588ed22137",
      "7c03fc789e6d4ca19e446630508bbe11",
      "0e05b08c3a034b97a471dd2d9a969e38",
      "6ced06ebf1dd436b80fcb2cbac5f690b",
      "6621ea1b2e6548c0b605659b67bee550",
      "ae671b267c1e44188c9fed2c140d3868",
      "f500453aa5bd4c148cb8480e53a0ce99",
      "c264deb673894096a3b56ba03dc0c560",
      "6aa99e5a557a4e9b8941cebbdb8137e2",
      "3995ce7015fc446ba4cc7cddc2ddcd97",
      "9d1d8787d9dd4ed5bee5d8036aec8dd1",
      "668c8674d077483c8f89d95650273061",
      "4bb6ac3f477141d2be79f6314ce70e92",
      "2092a52b8f7f4953849b6e7406b1ce18",
      "81ad004523874fc4bc741dfdeb2745bf",
      "d27b34af013c48debfaec811ebe0be5d"
     ]
    },
    "id": "Vx_D9SIPLYS3",
    "outputId": "0b691338-7b7b-4f75-81b8-a965907d6f5a"
   },
   "outputs": [
    {
     "data": {
      "application/vnd.jupyter.widget-view+json": {
       "model_id": "b1a41a4423484316909e5c7f38795490",
       "version_major": 2,
       "version_minor": 0
      },
      "text/plain": [
       "Map:   0%|          | 0/16000 [00:00<?, ? examples/s]"
      ]
     },
     "metadata": {},
     "output_type": "display_data"
    },
    {
     "data": {
      "application/vnd.jupyter.widget-view+json": {
       "model_id": "ae671b267c1e44188c9fed2c140d3868",
       "version_major": 2,
       "version_minor": 0
      },
      "text/plain": [
       "Map:   0%|          | 0/4000 [00:00<?, ? examples/s]"
      ]
     },
     "metadata": {},
     "output_type": "display_data"
    },
    {
     "name": "stderr",
     "output_type": "stream",
     "text": [
      "Some weights of DistilBertForSequenceClassification were not initialized from the model checkpoint at distilbert-base-uncased and are newly initialized: ['pre_classifier.weight', 'classifier.bias', 'classifier.weight', 'pre_classifier.bias']\n",
      "You should probably TRAIN this model on a down-stream task to be able to use it for predictions and inference.\n",
      "/content/distilbert-stock-tweet-sentiment-analysis is already a clone of https://huggingface.co/regmisaugat59/distilbert-stock-tweet-sentiment-analysis. Make sure you pull the latest changes with `repo.git_pull()`.\n",
      "WARNING:huggingface_hub.repository:/content/distilbert-stock-tweet-sentiment-analysis is already a clone of https://huggingface.co/regmisaugat59/distilbert-stock-tweet-sentiment-analysis. Make sure you pull the latest changes with `repo.git_pull()`.\n",
      "/usr/local/lib/python3.10/dist-packages/transformers/optimization.py:411: FutureWarning: This implementation of AdamW is deprecated and will be removed in a future version. Use the PyTorch implementation torch.optim.AdamW instead, or set `no_deprecation_warning=True` to disable this warning\n",
      "  warnings.warn(\n",
      "You're using a DistilBertTokenizerFast tokenizer. Please note that with a fast tokenizer, using the `__call__` method is faster than using a method to encode the text followed by a call to the `pad` method to get a padded encoding.\n"
     ]
    },
    {
     "data": {
      "text/html": [
       "\n",
       "    <div>\n",
       "      \n",
       "      <progress value='3000' max='3000' style='width:300px; height:20px; vertical-align: middle;'></progress>\n",
       "      [3000/3000 04:59, Epoch 3/3]\n",
       "    </div>\n",
       "    <table border=\"1\" class=\"dataframe\">\n",
       "  <thead>\n",
       " <tr style=\"text-align: left;\">\n",
       "      <th>Epoch</th>\n",
       "      <th>Training Loss</th>\n",
       "      <th>Validation Loss</th>\n",
       "      <th>Accuracy</th>\n",
       "    </tr>\n",
       "  </thead>\n",
       "  <tbody>\n",
       "    <tr>\n",
       "      <td>1</td>\n",
       "      <td>0.680700</td>\n",
       "      <td>0.607106</td>\n",
       "      <td>0.759000</td>\n",
       "    </tr>\n",
       "    <tr>\n",
       "      <td>2</td>\n",
       "      <td>0.483200</td>\n",
       "      <td>0.587172</td>\n",
       "      <td>0.762250</td>\n",
       "    </tr>\n",
       "    <tr>\n",
       "      <td>3</td>\n",
       "      <td>0.371400</td>\n",
       "      <td>0.633653</td>\n",
       "      <td>0.766000</td>\n",
       "    </tr>\n",
       "  </tbody>\n",
       "</table><p>"
      ],
      "text/plain": [
       "<IPython.core.display.HTML object>"
      ]
     },
     "metadata": {},
     "output_type": "display_data"
    }
   ],
   "source": [
    "if __name__ == \"__main__\":\n",
    "    textclassificationdataset = TextClassificationDataset()\n",
    "    train_df, test_df = textclassificationdataset.gen_classification_dataset()\n",
    "    textclassificationtrainer = TextClassificationModelTrainer(train_df, test_df)\n",
    "    textclassificationtrainer.train_and_save_and_push_to_hub()"
   ]
  },
  {
   "cell_type": "markdown",
   "metadata": {
    "id": "ICb0wI_KHUDA"
   },
   "source": [
    "## Inference"
   ]
  },
  {
   "cell_type": "code",
   "execution_count": null,
   "metadata": {
    "colab": {
     "base_uri": "https://localhost:8080/"
    },
    "id": "hAKdYXlRLfvH",
    "outputId": "637c9f7a-cc38-43d4-e644-aebfa1d4fc53"
   },
   "outputs": [
    {
     "data": {
      "text/plain": [
       "[{'label': 'POSITIVE', 'score': 0.9810577630996704}]"
      ]
     },
     "execution_count": 8,
     "metadata": {},
     "output_type": "execute_result"
    }
   ],
   "source": [
    "from transformers import pipeline\n",
    "classifier = pipeline(\"sentiment-analysis\",\n",
    "                      model = config.MODEL_OUTPUT_DIR,\n",
    "                      tokenizer = \"distilbert-base-uncased\")\n",
    "\n",
    "classifier(\"I have enjoying my vacation and will be back in few days\")"
   ]
  },
  {
   "cell_type": "markdown",
   "metadata": {
    "id": "Wj5V94rnRFkj"
   },
   "source": [
    "**The End**"
   ]
  }
 ],
 "metadata": {
  "accelerator": "GPU",
  "colab": {
   "gpuType": "T4",
   "provenance": []
  },
  "kernelspec": {
   "display_name": "Python 3 (ipykernel)",
   "language": "python",
   "name": "python3"
  },
  "language_info": {
   "codemirror_mode": {
    "name": "ipython",
    "version": 3
   },
   "file_extension": ".py",
   "mimetype": "text/x-python",
   "name": "python",
   "nbconvert_exporter": "python",
   "pygments_lexer": "ipython3",
   "version": "3.10.12"
  },
  "widgets": {
   "application/vnd.jupyter.widget-state+json": {
    "0e05b08c3a034b97a471dd2d9a969e38": {
     "model_module": "@jupyter-widgets/controls",
     "model_module_version": "1.5.0",
     "model_name": "ProgressStyleModel",
     "state": {
      "_model_module": "@jupyter-widgets/controls",
      "_model_module_version": "1.5.0",
      "_model_name": "ProgressStyleModel",
      "_view_count": null,
      "_view_module": "@jupyter-widgets/base",
      "_view_module_version": "1.2.0",
      "_view_name": "StyleView",
      "bar_color": null,
      "description_width": ""
     }
    },
    "1debdc7807924adfbf74fbd502fc99ff": {
     "model_module": "@jupyter-widgets/base",
     "model_module_version": "1.2.0",
     "model_name": "LayoutModel",
     "state": {
      "_model_module": "@jupyter-widgets/base",
      "_model_module_version": "1.2.0",
      "_model_name": "LayoutModel",
      "_view_count": null,
      "_view_module": "@jupyter-widgets/base",
      "_view_module_version": "1.2.0",
      "_view_name": "LayoutView",
      "align_content": null,
      "align_items": null,
      "align_self": null,
      "border": null,
      "bottom": null,
      "display": null,
      "flex": null,
      "flex_flow": null,
      "grid_area": null,
      "grid_auto_columns": null,
      "grid_auto_flow": null,
      "grid_auto_rows": null,
      "grid_column": null,
      "grid_gap": null,
      "grid_row": null,
      "grid_template_areas": null,
      "grid_template_columns": null,
      "grid_template_rows": null,
      "height": null,
      "justify_content": null,
      "justify_items": null,
      "left": null,
      "margin": null,
      "max_height": null,
      "max_width": null,
      "min_height": null,
      "min_width": null,
      "object_fit": null,
      "object_position": null,
      "order": null,
      "overflow": null,
      "overflow_x": null,
      "overflow_y": null,
      "padding": null,
      "right": null,
      "top": null,
      "visibility": null,
      "width": null
     }
    },
    "2092a52b8f7f4953849b6e7406b1ce18": {
     "model_module": "@jupyter-widgets/controls",
     "model_module_version": "1.5.0",
     "model_name": "ProgressStyleModel",
     "state": {
      "_model_module": "@jupyter-widgets/controls",
      "_model_module_version": "1.5.0",
      "_model_name": "ProgressStyleModel",
      "_view_count": null,
      "_view_module": "@jupyter-widgets/base",
      "_view_module_version": "1.2.0",
      "_view_name": "StyleView",
      "bar_color": null,
      "description_width": ""
     }
    },
    "2837d3d0212140f9b440355a9d3bfa35": {
     "model_module": "@jupyter-widgets/controls",
     "model_module_version": "1.5.0",
     "model_name": "HTMLModel",
     "state": {
      "_dom_classes": [],
      "_model_module": "@jupyter-widgets/controls",
      "_model_module_version": "1.5.0",
      "_model_name": "HTMLModel",
      "_view_count": null,
      "_view_module": "@jupyter-widgets/controls",
      "_view_module_version": "1.5.0",
      "_view_name": "HTMLView",
      "description": "",
      "description_tooltip": null,
      "layout": "IPY_MODEL_daaf5f89eed64d04a3b363e4fb53677a",
      "placeholder": "​",
      "style": "IPY_MODEL_d1369302f1a744f4804f86588ed22137",
      "value": "Map: 100%"
     }
    },
    "3995ce7015fc446ba4cc7cddc2ddcd97": {
     "model_module": "@jupyter-widgets/base",
     "model_module_version": "1.2.0",
     "model_name": "LayoutModel",
     "state": {
      "_model_module": "@jupyter-widgets/base",
      "_model_module_version": "1.2.0",
      "_model_name": "LayoutModel",
      "_view_count": null,
      "_view_module": "@jupyter-widgets/base",
      "_view_module_version": "1.2.0",
      "_view_name": "LayoutView",
      "align_content": null,
      "align_items": null,
      "align_self": null,
      "border": null,
      "bottom": null,
      "display": null,
      "flex": null,
      "flex_flow": null,
      "grid_area": null,
      "grid_auto_columns": null,
      "grid_auto_flow": null,
      "grid_auto_rows": null,
      "grid_column": null,
      "grid_gap": null,
      "grid_row": null,
      "grid_template_areas": null,
      "grid_template_columns": null,
      "grid_template_rows": null,
      "height": null,
      "justify_content": null,
      "justify_items": null,
      "left": null,
      "margin": null,
      "max_height": null,
      "max_width": null,
      "min_height": null,
      "min_width": null,
      "object_fit": null,
      "object_position": null,
      "order": null,
      "overflow": null,
      "overflow_x": null,
      "overflow_y": null,
      "padding": null,
      "right": null,
      "top": null,
      "visibility": null,
      "width": null
     }
    },
    "4b7e6006028944238b2d2db393c7d7ed": {
     "model_module": "@jupyter-widgets/controls",
     "model_module_version": "1.5.0",
     "model_name": "FloatProgressModel",
     "state": {
      "_dom_classes": [],
      "_model_module": "@jupyter-widgets/controls",
      "_model_module_version": "1.5.0",
      "_model_name": "FloatProgressModel",
      "_view_count": null,
      "_view_module": "@jupyter-widgets/controls",
      "_view_module_version": "1.5.0",
      "_view_name": "ProgressView",
      "bar_style": "success",
      "description": "",
      "description_tooltip": null,
      "layout": "IPY_MODEL_7c03fc789e6d4ca19e446630508bbe11",
      "max": 16000,
      "min": 0,
      "orientation": "horizontal",
      "style": "IPY_MODEL_0e05b08c3a034b97a471dd2d9a969e38",
      "value": 16000
     }
    },
    "4bb6ac3f477141d2be79f6314ce70e92": {
     "model_module": "@jupyter-widgets/base",
     "model_module_version": "1.2.0",
     "model_name": "LayoutModel",
     "state": {
      "_model_module": "@jupyter-widgets/base",
      "_model_module_version": "1.2.0",
      "_model_name": "LayoutModel",
      "_view_count": null,
      "_view_module": "@jupyter-widgets/base",
      "_view_module_version": "1.2.0",
      "_view_name": "LayoutView",
      "align_content": null,
      "align_items": null,
      "align_self": null,
      "border": null,
      "bottom": null,
      "display": null,
      "flex": null,
      "flex_flow": null,
      "grid_area": null,
      "grid_auto_columns": null,
      "grid_auto_flow": null,
      "grid_auto_rows": null,
      "grid_column": null,
      "grid_gap": null,
      "grid_row": null,
      "grid_template_areas": null,
      "grid_template_columns": null,
      "grid_template_rows": null,
      "height": null,
      "justify_content": null,
      "justify_items": null,
      "left": null,
      "margin": null,
      "max_height": null,
      "max_width": null,
      "min_height": null,
      "min_width": null,
      "object_fit": null,
      "object_position": null,
      "order": null,
      "overflow": null,
      "overflow_x": null,
      "overflow_y": null,
      "padding": null,
      "right": null,
      "top": null,
      "visibility": null,
      "width": null
     }
    },
    "6621ea1b2e6548c0b605659b67bee550": {
     "model_module": "@jupyter-widgets/controls",
     "model_module_version": "1.5.0",
     "model_name": "DescriptionStyleModel",
     "state": {
      "_model_module": "@jupyter-widgets/controls",
      "_model_module_version": "1.5.0",
      "_model_name": "DescriptionStyleModel",
      "_view_count": null,
      "_view_module": "@jupyter-widgets/base",
      "_view_module_version": "1.2.0",
      "_view_name": "StyleView",
      "description_width": ""
     }
    },
    "668c8674d077483c8f89d95650273061": {
     "model_module": "@jupyter-widgets/controls",
     "model_module_version": "1.5.0",
     "model_name": "DescriptionStyleModel",
     "state": {
      "_model_module": "@jupyter-widgets/controls",
      "_model_module_version": "1.5.0",
      "_model_name": "DescriptionStyleModel",
      "_view_count": null,
      "_view_module": "@jupyter-widgets/base",
      "_view_module_version": "1.2.0",
      "_view_name": "StyleView",
      "description_width": ""
     }
    },
    "6aa99e5a557a4e9b8941cebbdb8137e2": {
     "model_module": "@jupyter-widgets/controls",
     "model_module_version": "1.5.0",
     "model_name": "HTMLModel",
     "state": {
      "_dom_classes": [],
      "_model_module": "@jupyter-widgets/controls",
      "_model_module_version": "1.5.0",
      "_model_name": "HTMLModel",
      "_view_count": null,
      "_view_module": "@jupyter-widgets/controls",
      "_view_module_version": "1.5.0",
      "_view_name": "HTMLView",
      "description": "",
      "description_tooltip": null,
      "layout": "IPY_MODEL_81ad004523874fc4bc741dfdeb2745bf",
      "placeholder": "​",
      "style": "IPY_MODEL_d27b34af013c48debfaec811ebe0be5d",
      "value": " 4000/4000 [00:00&lt;00:00, 5272.99 examples/s]"
     }
    },
    "6ced06ebf1dd436b80fcb2cbac5f690b": {
     "model_module": "@jupyter-widgets/base",
     "model_module_version": "1.2.0",
     "model_name": "LayoutModel",
     "state": {
      "_model_module": "@jupyter-widgets/base",
      "_model_module_version": "1.2.0",
      "_model_name": "LayoutModel",
      "_view_count": null,
      "_view_module": "@jupyter-widgets/base",
      "_view_module_version": "1.2.0",
      "_view_name": "LayoutView",
      "align_content": null,
      "align_items": null,
      "align_self": null,
      "border": null,
      "bottom": null,
      "display": null,
      "flex": null,
      "flex_flow": null,
      "grid_area": null,
      "grid_auto_columns": null,
      "grid_auto_flow": null,
      "grid_auto_rows": null,
      "grid_column": null,
      "grid_gap": null,
      "grid_row": null,
      "grid_template_areas": null,
      "grid_template_columns": null,
      "grid_template_rows": null,
      "height": null,
      "justify_content": null,
      "justify_items": null,
      "left": null,
      "margin": null,
      "max_height": null,
      "max_width": null,
      "min_height": null,
      "min_width": null,
      "object_fit": null,
      "object_position": null,
      "order": null,
      "overflow": null,
      "overflow_x": null,
      "overflow_y": null,
      "padding": null,
      "right": null,
      "top": null,
      "visibility": null,
      "width": null
     }
    },
    "7c03fc789e6d4ca19e446630508bbe11": {
     "model_module": "@jupyter-widgets/base",
     "model_module_version": "1.2.0",
     "model_name": "LayoutModel",
     "state": {
      "_model_module": "@jupyter-widgets/base",
      "_model_module_version": "1.2.0",
      "_model_name": "LayoutModel",
      "_view_count": null,
      "_view_module": "@jupyter-widgets/base",
      "_view_module_version": "1.2.0",
      "_view_name": "LayoutView",
      "align_content": null,
      "align_items": null,
      "align_self": null,
      "border": null,
      "bottom": null,
      "display": null,
      "flex": null,
      "flex_flow": null,
      "grid_area": null,
      "grid_auto_columns": null,
      "grid_auto_flow": null,
      "grid_auto_rows": null,
      "grid_column": null,
      "grid_gap": null,
      "grid_row": null,
      "grid_template_areas": null,
      "grid_template_columns": null,
      "grid_template_rows": null,
      "height": null,
      "justify_content": null,
      "justify_items": null,
      "left": null,
      "margin": null,
      "max_height": null,
      "max_width": null,
      "min_height": null,
      "min_width": null,
      "object_fit": null,
      "object_position": null,
      "order": null,
      "overflow": null,
      "overflow_x": null,
      "overflow_y": null,
      "padding": null,
      "right": null,
      "top": null,
      "visibility": null,
      "width": null
     }
    },
    "7e29e9b83ca442b483adf0641d933af1": {
     "model_module": "@jupyter-widgets/controls",
     "model_module_version": "1.5.0",
     "model_name": "HTMLModel",
     "state": {
      "_dom_classes": [],
      "_model_module": "@jupyter-widgets/controls",
      "_model_module_version": "1.5.0",
      "_model_name": "HTMLModel",
      "_view_count": null,
      "_view_module": "@jupyter-widgets/controls",
      "_view_module_version": "1.5.0",
      "_view_name": "HTMLView",
      "description": "",
      "description_tooltip": null,
      "layout": "IPY_MODEL_6ced06ebf1dd436b80fcb2cbac5f690b",
      "placeholder": "​",
      "style": "IPY_MODEL_6621ea1b2e6548c0b605659b67bee550",
      "value": " 16000/16000 [00:04&lt;00:00, 4125.39 examples/s]"
     }
    },
    "81ad004523874fc4bc741dfdeb2745bf": {
     "model_module": "@jupyter-widgets/base",
     "model_module_version": "1.2.0",
     "model_name": "LayoutModel",
     "state": {
      "_model_module": "@jupyter-widgets/base",
      "_model_module_version": "1.2.0",
      "_model_name": "LayoutModel",
      "_view_count": null,
      "_view_module": "@jupyter-widgets/base",
      "_view_module_version": "1.2.0",
      "_view_name": "LayoutView",
      "align_content": null,
      "align_items": null,
      "align_self": null,
      "border": null,
      "bottom": null,
      "display": null,
      "flex": null,
      "flex_flow": null,
      "grid_area": null,
      "grid_auto_columns": null,
      "grid_auto_flow": null,
      "grid_auto_rows": null,
      "grid_column": null,
      "grid_gap": null,
      "grid_row": null,
      "grid_template_areas": null,
      "grid_template_columns": null,
      "grid_template_rows": null,
      "height": null,
      "justify_content": null,
      "justify_items": null,
      "left": null,
      "margin": null,
      "max_height": null,
      "max_width": null,
      "min_height": null,
      "min_width": null,
      "object_fit": null,
      "object_position": null,
      "order": null,
      "overflow": null,
      "overflow_x": null,
      "overflow_y": null,
      "padding": null,
      "right": null,
      "top": null,
      "visibility": null,
      "width": null
     }
    },
    "9d1d8787d9dd4ed5bee5d8036aec8dd1": {
     "model_module": "@jupyter-widgets/base",
     "model_module_version": "1.2.0",
     "model_name": "LayoutModel",
     "state": {
      "_model_module": "@jupyter-widgets/base",
      "_model_module_version": "1.2.0",
      "_model_name": "LayoutModel",
      "_view_count": null,
      "_view_module": "@jupyter-widgets/base",
      "_view_module_version": "1.2.0",
      "_view_name": "LayoutView",
      "align_content": null,
      "align_items": null,
      "align_self": null,
      "border": null,
      "bottom": null,
      "display": null,
      "flex": null,
      "flex_flow": null,
      "grid_area": null,
      "grid_auto_columns": null,
      "grid_auto_flow": null,
      "grid_auto_rows": null,
      "grid_column": null,
      "grid_gap": null,
      "grid_row": null,
      "grid_template_areas": null,
      "grid_template_columns": null,
      "grid_template_rows": null,
      "height": null,
      "justify_content": null,
      "justify_items": null,
      "left": null,
      "margin": null,
      "max_height": null,
      "max_width": null,
      "min_height": null,
      "min_width": null,
      "object_fit": null,
      "object_position": null,
      "order": null,
      "overflow": null,
      "overflow_x": null,
      "overflow_y": null,
      "padding": null,
      "right": null,
      "top": null,
      "visibility": null,
      "width": null
     }
    },
    "ae671b267c1e44188c9fed2c140d3868": {
     "model_module": "@jupyter-widgets/controls",
     "model_module_version": "1.5.0",
     "model_name": "HBoxModel",
     "state": {
      "_dom_classes": [],
      "_model_module": "@jupyter-widgets/controls",
      "_model_module_version": "1.5.0",
      "_model_name": "HBoxModel",
      "_view_count": null,
      "_view_module": "@jupyter-widgets/controls",
      "_view_module_version": "1.5.0",
      "_view_name": "HBoxView",
      "box_style": "",
      "children": [
       "IPY_MODEL_f500453aa5bd4c148cb8480e53a0ce99",
       "IPY_MODEL_c264deb673894096a3b56ba03dc0c560",
       "IPY_MODEL_6aa99e5a557a4e9b8941cebbdb8137e2"
      ],
      "layout": "IPY_MODEL_3995ce7015fc446ba4cc7cddc2ddcd97"
     }
    },
    "b1a41a4423484316909e5c7f38795490": {
     "model_module": "@jupyter-widgets/controls",
     "model_module_version": "1.5.0",
     "model_name": "HBoxModel",
     "state": {
      "_dom_classes": [],
      "_model_module": "@jupyter-widgets/controls",
      "_model_module_version": "1.5.0",
      "_model_name": "HBoxModel",
      "_view_count": null,
      "_view_module": "@jupyter-widgets/controls",
      "_view_module_version": "1.5.0",
      "_view_name": "HBoxView",
      "box_style": "",
      "children": [
       "IPY_MODEL_2837d3d0212140f9b440355a9d3bfa35",
       "IPY_MODEL_4b7e6006028944238b2d2db393c7d7ed",
       "IPY_MODEL_7e29e9b83ca442b483adf0641d933af1"
      ],
      "layout": "IPY_MODEL_1debdc7807924adfbf74fbd502fc99ff"
     }
    },
    "c264deb673894096a3b56ba03dc0c560": {
     "model_module": "@jupyter-widgets/controls",
     "model_module_version": "1.5.0",
     "model_name": "FloatProgressModel",
     "state": {
      "_dom_classes": [],
      "_model_module": "@jupyter-widgets/controls",
      "_model_module_version": "1.5.0",
      "_model_name": "FloatProgressModel",
      "_view_count": null,
      "_view_module": "@jupyter-widgets/controls",
      "_view_module_version": "1.5.0",
      "_view_name": "ProgressView",
      "bar_style": "success",
      "description": "",
      "description_tooltip": null,
      "layout": "IPY_MODEL_4bb6ac3f477141d2be79f6314ce70e92",
      "max": 4000,
      "min": 0,
      "orientation": "horizontal",
      "style": "IPY_MODEL_2092a52b8f7f4953849b6e7406b1ce18",
      "value": 4000
     }
    },
    "d1369302f1a744f4804f86588ed22137": {
     "model_module": "@jupyter-widgets/controls",
     "model_module_version": "1.5.0",
     "model_name": "DescriptionStyleModel",
     "state": {
      "_model_module": "@jupyter-widgets/controls",
      "_model_module_version": "1.5.0",
      "_model_name": "DescriptionStyleModel",
      "_view_count": null,
      "_view_module": "@jupyter-widgets/base",
      "_view_module_version": "1.2.0",
      "_view_name": "StyleView",
      "description_width": ""
     }
    },
    "d27b34af013c48debfaec811ebe0be5d": {
     "model_module": "@jupyter-widgets/controls",
     "model_module_version": "1.5.0",
     "model_name": "DescriptionStyleModel",
     "state": {
      "_model_module": "@jupyter-widgets/controls",
      "_model_module_version": "1.5.0",
      "_model_name": "DescriptionStyleModel",
      "_view_count": null,
      "_view_module": "@jupyter-widgets/base",
      "_view_module_version": "1.2.0",
      "_view_name": "StyleView",
      "description_width": ""
     }
    },
    "daaf5f89eed64d04a3b363e4fb53677a": {
     "model_module": "@jupyter-widgets/base",
     "model_module_version": "1.2.0",
     "model_name": "LayoutModel",
     "state": {
      "_model_module": "@jupyter-widgets/base",
      "_model_module_version": "1.2.0",
      "_model_name": "LayoutModel",
      "_view_count": null,
      "_view_module": "@jupyter-widgets/base",
      "_view_module_version": "1.2.0",
      "_view_name": "LayoutView",
      "align_content": null,
      "align_items": null,
      "align_self": null,
      "border": null,
      "bottom": null,
      "display": null,
      "flex": null,
      "flex_flow": null,
      "grid_area": null,
      "grid_auto_columns": null,
      "grid_auto_flow": null,
      "grid_auto_rows": null,
      "grid_column": null,
      "grid_gap": null,
      "grid_row": null,
      "grid_template_areas": null,
      "grid_template_columns": null,
      "grid_template_rows": null,
      "height": null,
      "justify_content": null,
      "justify_items": null,
      "left": null,
      "margin": null,
      "max_height": null,
      "max_width": null,
      "min_height": null,
      "min_width": null,
      "object_fit": null,
      "object_position": null,
      "order": null,
      "overflow": null,
      "overflow_x": null,
      "overflow_y": null,
      "padding": null,
      "right": null,
      "top": null,
      "visibility": null,
      "width": null
     }
    },
    "f500453aa5bd4c148cb8480e53a0ce99": {
     "model_module": "@jupyter-widgets/controls",
     "model_module_version": "1.5.0",
     "model_name": "HTMLModel",
     "state": {
      "_dom_classes": [],
      "_model_module": "@jupyter-widgets/controls",
      "_model_module_version": "1.5.0",
      "_model_name": "HTMLModel",
      "_view_count": null,
      "_view_module": "@jupyter-widgets/controls",
      "_view_module_version": "1.5.0",
      "_view_name": "HTMLView",
      "description": "",
      "description_tooltip": null,
      "layout": "IPY_MODEL_9d1d8787d9dd4ed5bee5d8036aec8dd1",
      "placeholder": "​",
      "style": "IPY_MODEL_668c8674d077483c8f89d95650273061",
      "value": "Map: 100%"
     }
    }
   }
  }
 },
 "nbformat": 4,
 "nbformat_minor": 1
}
